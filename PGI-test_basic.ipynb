{
 "cells": [
  {
   "cell_type": "markdown",
   "metadata": {},
   "source": [
    "##### LlamaIndex - Property Graph Index basic example\n",
    "doc [link](https://docs.llamaindex.ai/en/stable/examples/property_graph/property_graph_basic/)"
   ]
  },
  {
   "cell_type": "markdown",
   "metadata": {},
   "source": [
    "##### Setup"
   ]
  },
  {
   "cell_type": "code",
   "execution_count": 3,
   "metadata": {},
   "outputs": [],
   "source": [
    "### SETUP ###\n",
    "\n",
    "# get keys\n",
    "import os\n",
    "import getpass\n",
    "os.environ[\"OPENAI_API_KEY\"] = getpass.getpass()"
   ]
  },
  {
   "cell_type": "code",
   "execution_count": 5,
   "metadata": {},
   "outputs": [
    {
     "name": "stdout",
     "output_type": "stream",
     "text": [
      "--2024-05-30 18:35:48--  https://raw.githubusercontent.com/run-llama/llama_index/main/docs/docs/examples/data/paul_graham/paul_graham_essay.txt\n",
      "Resolving raw.githubusercontent.com (raw.githubusercontent.com)... 185.199.108.133, 185.199.109.133, 185.199.110.133, ...\n",
      "Connecting to raw.githubusercontent.com (raw.githubusercontent.com)|185.199.108.133|:443... connected.\n",
      "HTTP request sent, awaiting response... 200 OK\n",
      "Length: 75042 (73K) [text/plain]\n",
      "Saving to: ‘data/paul_graham/paul_graham_essay.txt’\n",
      "\n",
      "data/paul_graham/pa 100%[===================>]  73.28K  --.-KB/s    in 0.01s   \n",
      "\n",
      "2024-05-30 18:35:48 (6.66 MB/s) - ‘data/paul_graham/paul_graham_essay.txt’ saved [75042/75042]\n",
      "\n"
     ]
    }
   ],
   "source": [
    "### SETUP ###\n",
    "\n",
    "# get example unstructured data\n",
    "!mkdir -p 'data/paul_graham/'\n",
    "!wget 'https://raw.githubusercontent.com/run-llama/llama_index/main/docs/docs/examples/data/paul_graham/paul_graham_essay.txt' -O 'data/paul_graham/paul_graham_essay.txt'"
   ]
  },
  {
   "cell_type": "code",
   "execution_count": 6,
   "metadata": {},
   "outputs": [],
   "source": [
    "### SETUP ###\n",
    "\n",
    "# not sure why async is necessary\n",
    "import nest_asyncio\n",
    "nest_asyncio.apply()"
   ]
  },
  {
   "cell_type": "code",
   "execution_count": 7,
   "metadata": {},
   "outputs": [],
   "source": [
    "### SETUP ###\n",
    "\n",
    "# idk\n",
    "from llama_index.core import SimpleDirectoryReader\n",
    "documents = SimpleDirectoryReader(\"./data/paul_graham/\").load_data()"
   ]
  },
  {
   "cell_type": "markdown",
   "metadata": {},
   "source": [
    "##### Construction"
   ]
  },
  {
   "cell_type": "code",
   "execution_count": 8,
   "metadata": {},
   "outputs": [
    {
     "name": "stderr",
     "output_type": "stream",
     "text": [
      "/home/michael/Projects/PGI-test/env/lib/python3.10/site-packages/tqdm/auto.py:21: TqdmWarning: IProgress not found. Please update jupyter and ipywidgets. See https://ipywidgets.readthedocs.io/en/stable/user_install.html\n",
      "  from .autonotebook import tqdm as notebook_tqdm\n",
      "Parsing nodes: 100%|██████████| 1/1 [00:00<00:00, 31.95it/s]\n",
      "Extracting paths from text: 100%|██████████| 22/22 [00:11<00:00,  1.85it/s]\n",
      "Extracting implicit paths: 100%|██████████| 22/22 [00:00<00:00, 12798.15it/s]\n",
      "Generating embeddings: 100%|██████████| 1/1 [00:00<00:00,  1.46it/s]\n",
      "Generating embeddings: 100%|██████████| 5/5 [00:00<00:00,  6.16it/s]\n"
     ]
    }
   ],
   "source": [
    "### Construction ###\n",
    "\n",
    "from llama_index.core import PropertyGraphIndex\n",
    "from llama_index.embeddings.openai import OpenAIEmbedding\n",
    "from llama_index.llms.openai import OpenAI\n",
    "\n",
    "index = PropertyGraphIndex.from_documents(\n",
    "    documents,\n",
    "    llm=OpenAI(model=\"gpt-3.5-turbo\", temperature=0.3),\n",
    "    embed_model=OpenAIEmbedding(model_name=\"text-embedding-3-small\"),\n",
    "    show_progress=True,\n",
    ")"
   ]
  },
  {
   "cell_type": "markdown",
   "metadata": {},
   "source": [
    "Explanation\n",
    "- `PropertyGraphIndex.from_documents()` - we loaded documents into an index\n",
    "- `Parsing nodes` - the index parsed the documents into nodes\n",
    "- `Extracting paths from text` - the nodes were passed to an LLM, and the LLM was prompted to generate knowledge graph triples (i.e. paths)\n",
    "- `Extracting implicit paths` - each node.relationships property was used to infer implicit paths\n",
    "- `Generating embeddings` - embeddings were generated for each text node and graph node (hence this happens twice)"
   ]
  },
  {
   "cell_type": "code",
   "execution_count": 15,
   "metadata": {},
   "outputs": [
    {
     "name": "stderr",
     "output_type": "stream",
     "text": [
      "Parsing nodes: 100%|██████████| 1/1 [00:00<00:00, 32.69it/s]\n",
      "Extracting implicit paths: 100%|██████████| 22/22 [00:00<00:00, 26088.40it/s]\n",
      "Extracting paths from text: 100%|██████████| 22/22 [00:13<00:00,  1.63it/s]\n",
      "Generating embeddings: 100%|██████████| 1/1 [00:00<00:00,  1.54it/s]\n",
      "Generating embeddings: 100%|██████████| 6/6 [00:00<00:00, 10.51it/s]\n"
     ]
    }
   ],
   "source": [
    "### Construction ###\n",
    "# alternative method using lower level API\n",
    "\n",
    "from llama_index.core.indices.property_graph import (\n",
    "    ImplicitPathExtractor,\n",
    "    SimpleLLMPathExtractor,\n",
    ")\n",
    "\n",
    "index = PropertyGraphIndex.from_documents(\n",
    "    documents,\n",
    "    embed_model=OpenAIEmbedding(model_name=\"text-embedding-3-small\"),\n",
    "    kg_extractors=[\n",
    "        ImplicitPathExtractor(),\n",
    "        SimpleLLMPathExtractor(\n",
    "            llm=OpenAI(model=\"gpt-3.5-turbo\", temperature=0.3),\n",
    "            num_workers=4,\n",
    "            max_paths_per_chunk=10,\n",
    "        ),\n",
    "    ],\n",
    "    show_progress=True,\n",
    ")"
   ]
  },
  {
   "cell_type": "code",
   "execution_count": 16,
   "metadata": {},
   "outputs": [],
   "source": [
    "index.property_graph_store.save_networkx_graph(name=\"./kg.html\")"
   ]
  },
  {
   "cell_type": "markdown",
   "metadata": {},
   "source": [
    "##### Querying"
   ]
  },
  {
   "cell_type": "code",
   "execution_count": 17,
   "metadata": {},
   "outputs": [
    {
     "name": "stdout",
     "output_type": "stream",
     "text": [
      "Viaweb -> Was -> Lucky for us\n",
      "Viaweb -> Charged -> $100 a month for a small store\n",
      "Interleaf -> Had -> Few years to live\n",
      "Interleaf -> Made -> Software\n",
      "Interleaf -> Added -> Scripting language\n",
      "We -> Called -> Viaweb\n",
      "Viaweb -> Was -> Poor\n",
      "Viaweb -> Was -> Profitable\n",
      "Interleaf -> Had -> Group\n",
      "Viaweb -> Was -> Growing rapidly\n",
      "Viaweb -> Charged -> $300 a month for a big one\n",
      "Interleaf -> Wanted -> Lisp hacker\n",
      "Yahoo -> Bought -> Viaweb\n",
      "Viaweb -> Was -> Inexpensive\n",
      "Viaweb -> Started by -> Someone\n",
      "Philz -> Founded by -> Someone\n",
      "Y combinator -> Started by -> Someone\n",
      "Group -> Seemed -> Big\n",
      "Software -> Tends to eat -> High end software\n",
      "Software -> Was -> Quite fun to work on\n",
      "Group -> Called -> Release engineering\n",
      "Software -> Working -> Way\n",
      "Technology companies -> Be run by -> Sales people\n",
      "Textile department -> Belonged to -> Neighbor\n",
      "Computers -> Weren't powerful enough -> To run a more complicated interpreter\n",
      "Painting department -> Seemed -> Rigorous\n",
      "Illustration -> Seemed -> Rigorous\n",
      "Architecture -> Seemed -> Rigorous\n"
     ]
    }
   ],
   "source": [
    "retriever = index.as_retriever(\n",
    "    include_text=False,  # include source text, default True\n",
    ")\n",
    "\n",
    "nodes = retriever.retrieve(\"What happened at Interleaf and Viaweb?\")\n",
    "\n",
    "for node in nodes:\n",
    "    print(node.text)"
   ]
  },
  {
   "cell_type": "code",
   "execution_count": 18,
   "metadata": {},
   "outputs": [
    {
     "name": "stdout",
     "output_type": "stream",
     "text": [
      "Interleaf made software for creating documents and added a scripting language based on Lisp. They were looking for a Lisp hacker to work with this language. Viaweb was a company that developed an online store builder software. They struggled financially initially but eventually became profitable and were acquired by Yahoo. The founders of Viaweb later started Y Combinator.\n"
     ]
    }
   ],
   "source": [
    "query_engine = index.as_query_engine(\n",
    "    include_text=True,\n",
    ")\n",
    "\n",
    "response = query_engine.query(\"What happened at Interleaf and Viaweb?\")\n",
    "\n",
    "print(str(response))"
   ]
  },
  {
   "cell_type": "markdown",
   "metadata": {},
   "source": [
    "##### Storage"
   ]
  },
  {
   "cell_type": "code",
   "execution_count": 19,
   "metadata": {},
   "outputs": [],
   "source": [
    "index.storage_context.persist(persist_dir=\"./storage\")\n",
    "\n",
    "from llama_index.core import StorageContext, load_index_from_storage\n",
    "\n",
    "index = load_index_from_storage(\n",
    "    StorageContext.from_defaults(persist_dir=\"./storage\")\n",
    ")"
   ]
  }
 ],
 "metadata": {
  "kernelspec": {
   "display_name": "env",
   "language": "python",
   "name": "python3"
  },
  "language_info": {
   "codemirror_mode": {
    "name": "ipython",
    "version": 3
   },
   "file_extension": ".py",
   "mimetype": "text/x-python",
   "name": "python",
   "nbconvert_exporter": "python",
   "pygments_lexer": "ipython3",
   "version": "3.10.12"
  }
 },
 "nbformat": 4,
 "nbformat_minor": 2
}
